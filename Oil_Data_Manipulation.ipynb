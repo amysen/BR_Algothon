{
 "cells": [
  {
   "cell_type": "code",
   "execution_count": 53,
   "metadata": {},
   "outputs": [],
   "source": [
    "import pandas as pd\n",
    "df = pd.read_csv('SMA_FBD_44b0062292292b53e3a365a088b8d746.csv')"
   ]
  },
  {
   "cell_type": "code",
   "execution_count": 54,
   "metadata": {},
   "outputs": [],
   "source": [
    "oil_tickers = ['APA','BHGE','COG','CVX','XEC','CXO','COP','DVN', 'FANG','EOG','XOM','HAL','HP','HES','HFC','KMI','MRO','MPC','NOV','NBL','OXY','OKE','PSX','PXD','SLB','FTI','VLO','WMB','PKG']\n",
    "\n",
    "keep_cols = ['brand_ticker', 'date', 'fans',\n",
    "       'new_fans', 'admin_post_count', 'admin_post_likes',\n",
    "       'admin_post_comments', 'admin_post_shares', 'admin_post_reach',\n",
    "       'admin_post_impressions', 'engagement_score', 'people_talking_about', 'organic-admin_post_count',\n",
    "       'organic-admin_post_likes', 'organic-admin_post_comments',\n",
    "       'organic-admin_post_shares', 'organic-admin_post_reach',\n",
    "       'organic-admin_post_impressions', 'organic-engagement_score']\n",
    "\n",
    "df = df.loc[df['brand_ticker'].isin(oil_tickers)]\n",
    "df = df[keep_cols]"
   ]
  },
  {
   "cell_type": "code",
   "execution_count": 55,
   "metadata": {},
   "outputs": [],
   "source": [
    "df_2 = pd.read_csv('SMA_TWTD_4e7cd00b3717d8b2279185dd4fcc5e00.csv')"
   ]
  },
  {
   "cell_type": "code",
   "execution_count": 56,
   "metadata": {},
   "outputs": [],
   "source": [
    "keep_cols_2 = ['brand_ticker',\n",
    "       'date', 'followers_count', 'followees_count', 'tweets_count',\n",
    "       'retweets_count', 'replies_count', 'favorites_count',\n",
    "       'total_tweets_count', 'average_reply_time', 'engagement_score']\n",
    "df_2 = df_2.loc[df_2['brand_ticker'].isin(oil_tickers)]\n",
    "df_2 = df_2[keep_cols_2]"
   ]
  },
  {
   "cell_type": "code",
   "execution_count": 57,
   "metadata": {},
   "outputs": [],
   "source": [
    "df_3 = pd.read_csv('SMA_INSD_70edd700b53b565a4e81e81387c5db9b.csv')"
   ]
  },
  {
   "cell_type": "code",
   "execution_count": 58,
   "metadata": {},
   "outputs": [],
   "source": [
    "keep_cols_3 = ['brand_ticker', \n",
    "       'date', 'followers_count',\n",
    "       'likes_count', 'total_posts_count',\n",
    "       'engagement_score']\n",
    "\n",
    "df_3 = df_3.loc[df_3['brand_ticker'].isin(oil_tickers)]\n",
    "df_3 = df_3[keep_cols_3]"
   ]
  },
  {
   "cell_type": "code",
   "execution_count": 59,
   "metadata": {},
   "outputs": [],
   "source": [
    "df_tot = pd.merge(df, df_2, on=['date','brand_ticker'])\n",
    "df_tot = pd.merge(df_tot, df_3, on=['date','brand_ticker'])"
   ]
  },
  {
   "cell_type": "code",
   "execution_count": 60,
   "metadata": {},
   "outputs": [],
   "source": [
    "df = df_tot.to_csv(index=False)"
   ]
  },
  {
   "cell_type": "code",
   "execution_count": 65,
   "metadata": {},
   "outputs": [],
   "source": [
    "export_csv = df_tot.to_csv (r'export_dataframe.csv', index = None, header=True)"
   ]
  },
  {
   "cell_type": "code",
   "execution_count": null,
   "metadata": {},
   "outputs": [],
   "source": []
  }
 ],
 "metadata": {
  "kernelspec": {
   "display_name": "Python 3",
   "language": "python",
   "name": "python3"
  },
  "language_info": {
   "codemirror_mode": {
    "name": "ipython",
    "version": 3
   },
   "file_extension": ".py",
   "mimetype": "text/x-python",
   "name": "python",
   "nbconvert_exporter": "python",
   "pygments_lexer": "ipython3",
   "version": "3.6.5"
  }
 },
 "nbformat": 4,
 "nbformat_minor": 2
}
