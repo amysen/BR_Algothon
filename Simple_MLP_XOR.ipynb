{
  "nbformat": 4,
  "nbformat_minor": 0,
  "metadata": {
    "colab": {
      "provenance": [],
      "authorship_tag": "ABX9TyMkOJMPKWLjDpQgl/DHy/Xx",
      "include_colab_link": true
    },
    "kernelspec": {
      "name": "python3",
      "display_name": "Python 3"
    },
    "language_info": {
      "name": "python"
    }
  },
  "cells": [
    {
      "cell_type": "markdown",
      "metadata": {
        "id": "view-in-github",
        "colab_type": "text"
      },
      "source": [
        "<a href=\"https://colab.research.google.com/github/amysen/BR_Algothon/blob/master/Simple_MLP_XOR.ipynb\" target=\"_parent\"><img src=\"https://colab.research.google.com/assets/colab-badge.svg\" alt=\"Open In Colab\"/></a>"
      ]
    },
    {
      "cell_type": "code",
      "execution_count": 21,
      "metadata": {
        "colab": {
          "base_uri": "https://localhost:8080/"
        },
        "id": "So0Rn1iUfj4S",
        "outputId": "68673ed6-2882-4863-a242-3b63a811a2ec"
      },
      "outputs": [
        {
          "output_type": "execute_result",
          "data": {
            "text/plain": [
              "<torch._C.Generator at 0x7b11b427c2b0>"
            ]
          },
          "metadata": {},
          "execution_count": 21
        }
      ],
      "source": [
        "# Import the necessary libraries\n",
        "import torch\n",
        "import torch.nn as nn\n",
        "from torch.utils.data import TensorDataset, DataLoader\n",
        "\n",
        "'''\n",
        "Set the seed for generating random numbers in PyTorch.\n",
        "Ensures that any random number generated after this point follows a specific sequence / is reproducible.\n",
        "This is crucial for debugging, comparing results, and ensuring consistency in experiments.\n",
        "'''\n",
        "torch.manual_seed(42)"
      ]
    },
    {
      "cell_type": "markdown",
      "source": [
        "Video explaining mathematics behind linear layers [[link]](https://www.youtube.com/watch?v=QpyXyenmtTA)"
      ],
      "metadata": {
        "id": "PmaaTjgI_-0Q"
      }
    },
    {
      "cell_type": "code",
      "source": [
        "# Define a simple Multi-Layer Perceptron (MLP) class that inherits from nn.Module\n",
        "class simpleMLP(nn.Module):\n",
        "\n",
        "  def __init__(self):\n",
        "    # Call the parent class's constructor\n",
        "    super(simpleMLP, self).__init__()\n",
        "\n",
        "    # Define the first fully connected layer (fc1)\n",
        "    # This layer takes an input of size 2 and outputs a size of 4\n",
        "    self.fc1 = nn.Linear(2, 4)\n",
        "\n",
        "    # Define the second fully connected layer (fc2)\n",
        "    # This layer takes an input of size 4 and outputs a size of 2\n",
        "    self.fc2 = nn.Linear(4, 2)\n",
        "\n",
        "    # Define the third fully connected layer (fc3)\n",
        "    # This layer takes an input of size 2 and outputs a size of 1\n",
        "    self.fc3 = nn.Linear(2, 1)\n",
        "\n",
        "  # Define the forward pass of the network\n",
        "  # This method defines how the input data flows through the network\n",
        "  def forward(self, x):\n",
        "    # activation functions introduce non-linearity in our network\n",
        "    x = torch.relu(self.fc1(x))\n",
        "    x = torch.relu(self.fc2(x))\n",
        "    x = torch.sigmoid(self.fc3(x))\n",
        "    return x"
      ],
      "metadata": {
        "id": "ufrIDQU7gPwf"
      },
      "execution_count": 22,
      "outputs": []
    },
    {
      "cell_type": "code",
      "source": [
        "# Create an instance of the simpleMLP class\n",
        "model = simpleMLP()\n",
        "print(model)"
      ],
      "metadata": {
        "colab": {
          "base_uri": "https://localhost:8080/"
        },
        "id": "rEbnIfz2hQkM",
        "outputId": "466c99e7-679c-40d6-de29-dedc13946424"
      },
      "execution_count": 23,
      "outputs": [
        {
          "output_type": "stream",
          "name": "stdout",
          "text": [
            "simpleMLP(\n",
            "  (fc1): Linear(in_features=2, out_features=4, bias=True)\n",
            "  (fc2): Linear(in_features=4, out_features=2, bias=True)\n",
            "  (fc3): Linear(in_features=2, out_features=1, bias=True)\n",
            ")\n"
          ]
        }
      ]
    },
    {
      "cell_type": "code",
      "source": [
        "def weights_init(model):\n",
        "  for m in model.modules():\n",
        "    if isinstance(m, nn.Linear):\n",
        "      # initialize the weight tensor, using a normal distribution\n",
        "      m.weight.data.normal_(0,1)\n",
        "\n",
        "weights_init(model)"
      ],
      "metadata": {
        "id": "epGUdc4DrIt5"
      },
      "execution_count": 24,
      "outputs": []
    },
    {
      "cell_type": "code",
      "source": [
        "# Create a sample input tensor with 2 features (as the first layer takes an input of size 2)\n",
        "input_tensor = torch.tensor([[1.0, 2.0]])\n",
        "\n",
        "# Perform a forward pass through the network with the input tensor\n",
        "output = model(input_tensor)\n",
        "\n",
        "#The output is the result of linear transformations applied to the input data.\n",
        "print(output)"
      ],
      "metadata": {
        "colab": {
          "base_uri": "https://localhost:8080/"
        },
        "id": "5t22r0oehUxR",
        "outputId": "32f05c4f-c93c-4ebb-c6cf-eb788ec5c5c7"
      },
      "execution_count": 7,
      "outputs": [
        {
          "output_type": "stream",
          "name": "stdout",
          "text": [
            "tensor([[-0.1369]], grad_fn=<AddmmBackward0>)\n"
          ]
        }
      ]
    },
    {
      "cell_type": "markdown",
      "source": [
        "# Training network to act as an XOR Gate"
      ],
      "metadata": {
        "id": "9Uy599cxkDxO"
      }
    },
    {
      "cell_type": "code",
      "source": [
        "# XOR Data\n",
        "X = torch.tensor([[0,0],[0,1],[1,0],[1,1]], dtype=torch.float32)\n",
        "y = torch.tensor([[0],[1],[1],[0]], dtype=torch.float32)\n",
        "\n",
        "# create TensorDataset\n",
        "dataset = TensorDataset(X, y)\n",
        "\n",
        "# create DataLoader for batch processing\n",
        "dataloader = DataLoader(dataset, batch_size=2, shuffle=True)"
      ],
      "metadata": {
        "id": "5WvVK_7gkPTK"
      },
      "execution_count": 25,
      "outputs": []
    },
    {
      "cell_type": "code",
      "source": [
        "dataloader.dataset.tensors"
      ],
      "metadata": {
        "colab": {
          "base_uri": "https://localhost:8080/"
        },
        "id": "Pd0837xQmjZU",
        "outputId": "288bb244-4585-45e3-81d1-c2a0255f2dfe"
      },
      "execution_count": 14,
      "outputs": [
        {
          "output_type": "execute_result",
          "data": {
            "text/plain": [
              "(tensor([[0., 0.],\n",
              "         [0., 1.],\n",
              "         [1., 0.],\n",
              "         [1., 1.]]),\n",
              " tensor([[0.],\n",
              "         [1.],\n",
              "         [1.],\n",
              "         [0.]]))"
            ]
          },
          "metadata": {},
          "execution_count": 14
        }
      ]
    },
    {
      "cell_type": "markdown",
      "source": [
        "# Training the model"
      ],
      "metadata": {
        "id": "4tc17PoclRzx"
      }
    },
    {
      "cell_type": "code",
      "source": [
        "loss_function = nn.MSELoss() # Mean Squared Error Loss\n",
        "optimizer = torch.optim.SGD(model.parameters(), lr=0.01) # Stochastic Gradient Descent\n",
        "\n",
        "# Training loop\n",
        "for epoch in range(10000):\n",
        "\n",
        "  loss_ith_epoch = 0.0\n",
        "\n",
        "  for batch_idx, (X_batch, y_batch) in enumerate(dataloader):\n",
        "    # Forward pass: Computer predicted y\n",
        "    y_pred = model(X_batch)\n",
        "\n",
        "    # Compute loss\n",
        "    loss = loss_function(y_pred, y_batch)\n",
        "\n",
        "    optimizer.zero_grad()\n",
        "\n",
        "    # perform a backward pass (calculate ∂L/∂w -> L: loss, w: weights)\n",
        "    loss.backward()\n",
        "\n",
        "    # update the weights: w = w - α(∂L/∂w) [α is the learning rate of 0.01]\n",
        "    optimizer.step()\n",
        "\n",
        "    loss_ith_epoch += loss.item()\n",
        "\n",
        "  # Logging\n",
        "  if (epoch+1) % 1000 == 0:\n",
        "    print(f'Epoch [{epoch+1}/10000], Loss: {loss_ith_epoch/len(dataloader):.4f}')\n",
        "    loss_ith_epoch = 0.0\n"
      ],
      "metadata": {
        "colab": {
          "base_uri": "https://localhost:8080/"
        },
        "id": "Ki4iviI5lUZB",
        "outputId": "ffe348bf-e8b6-4143-a640-710bb22d8a3d"
      },
      "execution_count": 27,
      "outputs": [
        {
          "output_type": "stream",
          "name": "stdout",
          "text": [
            "Epoch [1000/10000], Loss: 0.2355\n",
            "Epoch [2000/10000], Loss: 0.0932\n",
            "Epoch [3000/10000], Loss: 0.0265\n",
            "Epoch [4000/10000], Loss: 0.0130\n",
            "Epoch [5000/10000], Loss: 0.0083\n",
            "Epoch [6000/10000], Loss: 0.0059\n",
            "Epoch [7000/10000], Loss: 0.0046\n",
            "Epoch [8000/10000], Loss: 0.0037\n",
            "Epoch [9000/10000], Loss: 0.0031\n",
            "Epoch [10000/10000], Loss: 0.0026\n"
          ]
        }
      ]
    },
    {
      "cell_type": "code",
      "source": [
        "# Threshold the outputs to get binary predictions\n",
        "threshold = 0.5\n",
        "predictions = (model(X) > threshold).float()\n",
        "\n",
        "print('*****Truth Table*****')\n",
        "# Print the input-output pairs\n",
        "for input, pred in zip(X, predictions):\n",
        "  print(f'XOR Input: {input.numpy()}, Output: {pred.item()}')"
      ],
      "metadata": {
        "colab": {
          "base_uri": "https://localhost:8080/"
        },
        "id": "B5avmXxyqAxA",
        "outputId": "7eda06bc-6abc-4a7f-a5ce-a28ec57bc8ad"
      },
      "execution_count": 28,
      "outputs": [
        {
          "output_type": "stream",
          "name": "stdout",
          "text": [
            "*****Truth Table*****\n",
            "XOR Input: [0. 0.], Output: 0.0\n",
            "XOR Input: [0. 1.], Output: 1.0\n",
            "XOR Input: [1. 0.], Output: 1.0\n",
            "XOR Input: [1. 1.], Output: 0.0\n"
          ]
        }
      ]
    },
    {
      "cell_type": "code",
      "source": [],
      "metadata": {
        "id": "Hhgg8FJJtHCd"
      },
      "execution_count": null,
      "outputs": []
    }
  ]
}